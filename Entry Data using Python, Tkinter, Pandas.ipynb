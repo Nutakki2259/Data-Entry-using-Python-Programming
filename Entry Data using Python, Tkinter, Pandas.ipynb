{
 "cells": [
  {
   "cell_type": "markdown",
   "metadata": {},
   "source": [
    "# Enter your data into Excel file using python programming, Tkinter, Pandas\n",
    "### The basis is to make easy entry of your work details rather than modifying an excel sheet\n",
    "Here is a benefit to learn to make your custom .xlsx, .txt files to save data automatically through python platform with pandas,tkinter libraries that helps in further extension in other projects."
   ]
  },
  {
   "cell_type": "code",
   "execution_count": 12,
   "metadata": {},
   "outputs": [],
   "source": [
    "#import all libraries that are needed for computing\n",
    "\n",
    "import pandas as pd\n",
    "from tkinter import *\n",
    "import tkinter as tk \n",
    "from tkcalendar import Calendar,DateEntry\n",
    "import openpyxl\n",
    "import xlsxwriter\n",
    "import os\n",
    "from tkinter import messagebox as mb"
   ]
  },
  {
   "cell_type": "markdown",
   "metadata": {},
   "source": [
    "## Enter your categories of data\n",
    "Here, defineing the save and exit buttons with the variables to enter into collecting data."
   ]
  },
  {
   "cell_type": "code",
   "execution_count": 13,
   "metadata": {},
   "outputs": [],
   "source": [
    "path = 'C:/Users/prade/Python Practice GitHub/' #enter your saving path folder\n",
    "filename = 'outer' #save your .xlsx file name as 'outer'\n",
    "\n",
    "#column names (only taken 4 columns). it is not mandatory\n",
    "c1 = \"Date of Entry\"\n",
    "c2 = \"Company Name\"\n",
    "c3 = \"Job Title\"\n",
    "c4 = \"Job Code\"\n",
    "\n",
    "#popup messages and duration to stay on popup\n",
    "duration = 4000 #milli seconds\n",
    "save_message = 'successfully saved...'\n",
    "entry_delete_message = 'Entry Number starts from 1 to '\n",
    "re_enter_data_message = 'you can re-enter details in Enter your Data box...'"
   ]
  },
  {
   "cell_type": "code",
   "execution_count": 14,
   "metadata": {},
   "outputs": [
    {
     "data": {
      "text/plain": [
       "'C:/Users/prade/Python Practice GitHub/outer.xlsx'"
      ]
     },
     "execution_count": 14,
     "metadata": {},
     "output_type": "execute_result"
    }
   ],
   "source": [
    "path+filename+'.xlsx'"
   ]
  },
  {
   "cell_type": "markdown",
   "metadata": {},
   "source": [
    "## Show your entry details /Quit from the entry box\n",
    "Here, the data you have last entered information can be viewed in other dialogue box and will quit after 4 seconds. The quit function defined obtained to quit from master file where entry of details takes place."
   ]
  },
  {
   "cell_type": "code",
   "execution_count": 15,
   "metadata": {},
   "outputs": [],
   "source": [
    "# to view the details that recently enetered in the check box after running this cell.\n",
    "def show_entry_fields():\n",
    "    \n",
    "    sub_master_1 = tk.Tk()\n",
    "    sub_master_1.title('Show current Entry')\n",
    "    df = pd.read_excel(path+filename+'.xlsx',header=None,index=False)\n",
    "    \n",
    "    for i, row in df.iterrows(): #attaining to show the details of excel file\n",
    "        c = 0\n",
    "        for cell in row:\n",
    "            print(cell)\n",
    "            if i==0: #this gives column names\n",
    "                tk.Label(sub_master_1, text=cell).grid(row=i, column=c)\n",
    "            elif i==len(df)-1: #this gives last row values\n",
    "                tk.Label(sub_master_1, text=cell).grid(row=i, column=c)\n",
    "                print(\"Date of Entry: %s\\nCompany Name: %s\\nJob Title: %s\\nJob Code: %s\" % (e1.get(), e2.get(),e3.get(),e4.get()))\n",
    "            c += 1\n",
    "    sub_master_1.after(duration, sub_master_1.destroy) # Destroy the widget after 4 seconds\n",
    "    \n",
    "#forming buttons to access further to entry\n",
    "def quit(): #quit from everything\n",
    "    if mb.askyesno('Verify', 'Really quit?'):\n",
    "        mb.showinfo('Yes', 'Quit done')\n",
    "        master.destroy()\n",
    "    else:\n",
    "        mb.showinfo('No', 'Quit has been cancelled')"
   ]
  },
  {
   "cell_type": "markdown",
   "metadata": {},
   "source": [
    "## Placing the entries in tk message box\n",
    "Here, the details that needed to enter as discription of column names are viewed in message box which will be saved as columns in .xlsx file format."
   ]
  },
  {
   "cell_type": "code",
   "execution_count": 16,
   "metadata": {},
   "outputs": [],
   "source": [
    "master = tk.Tk()\n",
    "master.title('Enter your Data')\n",
    "\n",
    "#label the data to view in window tab after run this cell\n",
    "tk.Label(master,  \n",
    "         text=c1).grid(row=0)\n",
    "tk.Label(master, \n",
    "         text=c2).grid(row=1)\n",
    "tk.Label(master, \n",
    "         text=c3).grid(row=2)\n",
    "tk.Label(master, \n",
    "         text=c4).grid(row=3)\n",
    "\n",
    "#entry date from calender that opens on the markdown\n",
    "e1 = DateEntry(master) \n",
    "e2 = tk.Entry(master)\n",
    "e3 = tk.Entry(master)\n",
    "e4 = tk.Entry(master)\n",
    "\n",
    "#making the place of hold values to enter\n",
    "e1.grid(row=0, column=1) \n",
    "e2.grid(row=1, column=1)\n",
    "e3.grid(row=2, column=1)\n",
    "e4.grid(row=3, column=1)\n",
    "\n",
    "tk.Button(master,  \n",
    "          text='Quit', \n",
    "          command=quit).grid(row=4, \n",
    "                                    column=0, \n",
    "                                    sticky=tk.W, \n",
    "                                    pady=4)\n",
    "tk.Button(master, \n",
    "          text='Show', command=show_entry_fields).grid(row=4, \n",
    "                                                       column=1, \n",
    "                                                       sticky=tk.W, \n",
    "                                                       pady=4)\n"
   ]
  },
  {
   "cell_type": "markdown",
   "metadata": {},
   "source": [
    "## Save data that you entered before\n",
    "Here, the data enetered to be saved in dataframe for an excel sheet. So, created a dataframe if there is no file exit or else append the data which was entered by manual catalog box pop-up."
   ]
  },
  {
   "cell_type": "code",
   "execution_count": 17,
   "metadata": {},
   "outputs": [],
   "source": [
    "\n",
    "#save the data into an excel file\n",
    "def save_to_excel():\n",
    "    if os.path.isfile(path+filename+'.xlsx'): #here defining if there is previous exce sheet continue with it or else create new one\n",
    "        df = pd.read_excel(path+filename+'.xlsx')\n",
    "    else:\n",
    "        df = pd.DataFrame([],columns=[c1,c2,c3,c4])\n",
    "        df.to_excel(path+filename+'.xlsx',index=False)\n",
    "        df = pd.read_excel(path+filename+'.xlsx')\n",
    "    \n",
    "    SeriesA = df[c1] #defining series values of columns\n",
    "    SeriesB = df[c2]\n",
    "    SeriesC = df[c3]\n",
    "    SeriesD = df[c4]\n",
    "    \n",
    "    A = pd.Series(e1.get()) #attaching the values to series that etered in dialogue box\n",
    "    B = pd.Series(e2.get())\n",
    "    C = pd.Series(e3.get())\n",
    "    D = pd.Series(e4.get())\n",
    "    \n",
    "    SeriesA = SeriesA.append(A) #append all values entered until quit\n",
    "    SeriesB = SeriesB.append(B)\n",
    "    SeriesC = SeriesC.append(C)\n",
    "    SeriesD = SeriesD.append(D)\n",
    "        \n",
    "    data = pd.DataFrame({c1: SeriesA, #make a dataframe of all these appended values\n",
    "                           c2: SeriesB,\n",
    "                            c3:SeriesC,\n",
    "                                c4:SeriesD})\n",
    "    #print(data)\n",
    "    data.to_excel(path+filename+'.xlsx',index=False) \n",
    "    \n",
    "    #after an entry click the row gets deleted in catalog box to enter new one\n",
    "    #e1.delete(0,END) \n",
    "    e2.delete(0,END)\n",
    "    e3.delete(0,END)\n",
    "    e4.delete(0,END)\n",
    "    \n",
    "    #popup message of succesfully saved\n",
    "    top1 = Toplevel()\n",
    "    top1.title('Saving...')\n",
    "    top1.geometry(\"150x100\") #box size\n",
    "    Message(top1, text=save_message, padx=20, pady=20).pack()\n",
    "    top1.after(duration, top1.destroy)\n",
    "    \n"
   ]
  },
  {
   "cell_type": "markdown",
   "metadata": {},
   "source": [
    "## Edit/Delete the entry data to re-enter correct entry\n",
    "Here, edit data if entry after deleting an entry starting from 1 to len(dataframe)-1 numbers that can be enetered in dialogue box and press 'ok' button"
   ]
  },
  {
   "cell_type": "code",
   "execution_count": 18,
   "metadata": {},
   "outputs": [],
   "source": [
    "#delete the data and re-enter necessary\n",
    "def edit_delete():\n",
    "    sub_master = tk.Tk()\n",
    "    sub_master.title('Delete an Entry')\n",
    "    df = pd.read_excel(path+filename+'.xlsx',header=None,index=False)\n",
    "    \n",
    "    '''\n",
    "    Note: Here the index of Entry Number for delete starts from 1 to len(df)-1\n",
    "    '''\n",
    "    for i, row in df.iterrows(): #attaining to show the details of excel file in the edit section to view which one to edit\n",
    "        c = 0\n",
    "        for cell in row:\n",
    "            tk.Label(sub_master, text=cell).grid(row=i, column=c)\n",
    "            c += 1\n",
    "    \n",
    "    #popup message to show info of entry number to delete\n",
    "    top2 = Toplevel()\n",
    "    top2.title('Entry Info...')\n",
    "    top2.geometry(\"150x100\") #box size\n",
    "    length = str(len(df)-1)\n",
    "    Message(top2, text=entry_delete_message + length, padx=20, pady=20).pack()\n",
    "    top2.after(duration, top2.destroy)\n",
    "    \n",
    "    #as of from before save area using same format\n",
    "    tk.Label(sub_master, \n",
    "             text=\"Entry Number\").grid(row=i+1) \n",
    "    e5 = tk.Entry(sub_master)\n",
    "    e5.grid(row=i+1, column=1) \n",
    "    \n",
    "    def modify(): #modify the data after click on 'ok' button\n",
    "        if mb.askyesno('Verify', 'Really delete entry?'):\n",
    "            mb.showinfo('Yes', 'Entry deleted')\n",
    "            for i in range(len(df)):\n",
    "                #print(i)\n",
    "                #print('e5',e5.get())\n",
    "                if int(e5.get()) == i+1:\n",
    "                    #print(df.iloc[i+1])\n",
    "                    data = df.drop([i+1],axis=0)\n",
    "                    data.to_excel(path+filename+'.xlsx',header=None,index=False)\n",
    "                    #,columns=['Date of Entry','Company Name','Job Title','Job Code']\n",
    "        \n",
    "        else:\n",
    "            mb.showinfo('No', 'Delete option has been cancelled')\n",
    "        sub_master.destroy()  \n",
    "        \n",
    "        #popup message of succesfully saved\n",
    "        top3 = Toplevel()\n",
    "        top3.title('Re-Enter...')\n",
    "        top3.geometry(\"150x100\")\n",
    "        Message(top3, text=re_enter_data_message, padx=20, pady=20).pack()\n",
    "        top3.after(duration, top3.destroy)\n",
    "        \n",
    "    tk.Button(sub_master, \n",
    "          text='Edit/Ok', command=modify).grid(row=i+2, \n",
    "                                                       column=1, \n",
    "                                                    sticky=tk.W, \n",
    "                                                       pady=4)            \n",
    "    sub_master.mainloop()\n",
    "    \n",
    "\n",
    "        \n",
    "    "
   ]
  },
  {
   "cell_type": "code",
   "execution_count": 19,
   "metadata": {},
   "outputs": [
    {
     "name": "stdout",
     "output_type": "stream",
     "text": [
      "Data in Excel: \n",
      "    Date of Entry Company Name Job Title Job Code\n",
      "0        7/23/20           sd       sdd       34\n",
      "1        7/23/20         wewq     rer55      NaN\n",
      "2        7/23/20         erew       ere       66\n",
      "3        7/23/20         erwr      were     rwer\n",
      "4        7/24/20           df        df      345\n",
      "5        7/24/20            d       fff       t5\n",
      "6        7/24/20          dfg       tzu     5667\n",
      "7        7/24/20            d         f      555\n",
      "8        7/24/20          NaN       NaN      NaN\n",
      "9        7/24/20            d        fg       gg\n",
      "10       7/24/20           df        df      zzz\n"
     ]
    }
   ],
   "source": [
    "#to view the data totally saved in excel\n",
    "data_excel = pd.read_excel(path+filename+'.xlsx')\n",
    "print('Data in Excel: \\n', data_excel)"
   ]
  },
  {
   "cell_type": "markdown",
   "metadata": {},
   "source": [
    "## Defining master entry buttons to access"
   ]
  },
  {
   "cell_type": "code",
   "execution_count": 20,
   "metadata": {},
   "outputs": [],
   "source": [
    "#save, edit or delete entry your data by click on button  \n",
    "tk.Button(master, \n",
    "          text='Save', command=save_to_excel).grid(row=4, \n",
    "                                                       column=2, \n",
    "                                                    sticky=tk.W, \n",
    "                                                       pady=4)\n",
    "\n",
    "tk.Button(master, \n",
    "          text='Edit/Delete', command=edit_delete).grid(row=4, \n",
    "                                                       column=3, \n",
    "                                                    sticky=tk.W, \n",
    "                                                       pady=4)\n",
    "\n",
    "\n",
    "\n",
    "master.mainloop()"
   ]
  },
  {
   "cell_type": "markdown",
   "metadata": {},
   "source": [
    "## References"
   ]
  },
  {
   "cell_type": "markdown",
   "metadata": {},
   "source": [
    "https://github.com/Derrick-Sherrill/DerrickSherrill.com/blob/master/Python_Data_Form.py"
   ]
  }
 ],
 "metadata": {
  "kernelspec": {
   "display_name": "Python 3",
   "language": "python",
   "name": "python3"
  },
  "language_info": {
   "codemirror_mode": {
    "name": "ipython",
    "version": 3
   },
   "file_extension": ".py",
   "mimetype": "text/x-python",
   "name": "python",
   "nbconvert_exporter": "python",
   "pygments_lexer": "ipython3",
   "version": "3.7.0"
  }
 },
 "nbformat": 4,
 "nbformat_minor": 4
}
